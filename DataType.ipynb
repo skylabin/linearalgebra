{
  "nbformat": 4,
  "nbformat_minor": 0,
  "metadata": {
    "colab": {
      "name": "DataType.ipynb",
      "provenance": [],
      "collapsed_sections": [],
      "authorship_tag": "ABX9TyPErNgT9L/R+m76W4Zgzxh9",
      "include_colab_link": true
    },
    "kernelspec": {
      "name": "python3",
      "display_name": "Python 3"
    },
    "language_info": {
      "name": "python"
    }
  },
  "cells": [
    {
      "cell_type": "markdown",
      "metadata": {
        "id": "view-in-github",
        "colab_type": "text"
      },
      "source": [
        "<a href=\"https://colab.research.google.com/github/skylabin/linearalgebra/blob/main/DataType.ipynb\" target=\"_parent\"><img src=\"https://colab.research.google.com/assets/colab-badge.svg\" alt=\"Open In Colab\"/></a>"
      ]
    },
    {
      "cell_type": "markdown",
      "metadata": {
        "id": "ybHRdv-tw_7e"
      },
      "source": [
        "## Data Types in Numpy\n",
        "Data type Object (dtype) in NumPy Python\n",
        "Difficulty Level : Medium\n",
        "Last Updated : 29 Nov, 2018\n",
        "Every ndarray has an associated data type (dtype) object. This data type object (dtype) informs us about the layout of the array. This means it gives us information about :\n",
        "\n",
        "Type of the data (integer, float, Python object etc.)\n",
        "Size of the data (number of bytes)\n",
        "Byte order of the data (little-endian or big-endian)\n",
        "If the data type is a sub-array, what is its shape and data type.\n",
        "The values of an ndarray are stored in a buffer which can be thought of as a contiguous block of memory bytes. So how these bytes will be interpreted is given by the dtype object.  \n",
        "\n",
        "Constructing a data type (dtype) object : Data type object is an instance of numpy.dtype class and it can be created using numpy.dtype.\n",
        "Parameters:\n",
        "\n",
        "obj: Object to be converted to a data type object.\n",
        "align : bool, optional\n",
        "Add padding to the fields to match what a C compiler would output for a similar C-struct.\n",
        "copy : bool, optional\n",
        "Make a new copy of the data-type object. If False, the result may just be a reference to a built-in data-type object.\n",
        "\n",
        "# Python Program to create a data type object\n",
        "import numpy as np\n",
        "  \n",
        "# np.int16 is converted into a data type object.\n",
        "print(np.dtype(np.int16))"
      ]
    },
    {
      "cell_type": "code",
      "metadata": {
        "id": "HG88IY7YuLs4"
      },
      "source": [
        "import numpy as np"
      ],
      "execution_count": 2,
      "outputs": []
    },
    {
      "cell_type": "code",
      "metadata": {
        "colab": {
          "base_uri": "https://localhost:8080/"
        },
        "id": "dn_Z3adGuIKo",
        "outputId": "22c7d53b-ef94-4efd-e73b-6939ddb532d1"
      },
      "source": [
        "ints = np.array(range(3))\n",
        "chars = np.array(list('ABCDEFGHIJKLMNOP'))\n",
        "strings = np.array([\"ABCDEFGHIJKLMNOP\"])\n",
        "print(chars.tobytes())\n",
        "print(strings.tobytes())\n",
        "print(ints.dtype, chars.dtype, strings.dtype)\n",
        "# Atleast the <U16 means the number of bytes used in the string.\n",
        "# But for a list it just shows as <U1 "
      ],
      "execution_count": 3,
      "outputs": [
        {
          "output_type": "stream",
          "text": [
            "b'A\\x00\\x00\\x00B\\x00\\x00\\x00C\\x00\\x00\\x00D\\x00\\x00\\x00E\\x00\\x00\\x00F\\x00\\x00\\x00G\\x00\\x00\\x00H\\x00\\x00\\x00I\\x00\\x00\\x00J\\x00\\x00\\x00K\\x00\\x00\\x00L\\x00\\x00\\x00M\\x00\\x00\\x00N\\x00\\x00\\x00O\\x00\\x00\\x00P\\x00\\x00\\x00'\n",
            "b'A\\x00\\x00\\x00B\\x00\\x00\\x00C\\x00\\x00\\x00D\\x00\\x00\\x00E\\x00\\x00\\x00F\\x00\\x00\\x00G\\x00\\x00\\x00H\\x00\\x00\\x00I\\x00\\x00\\x00J\\x00\\x00\\x00K\\x00\\x00\\x00L\\x00\\x00\\x00M\\x00\\x00\\x00N\\x00\\x00\\x00O\\x00\\x00\\x00P\\x00\\x00\\x00'\n",
            "int64 <U1 <U16\n"
          ],
          "name": "stdout"
        }
      ]
    },
    {
      "cell_type": "code",
      "metadata": {
        "colab": {
          "base_uri": "https://localhost:8080/"
        },
        "id": "FW3h9ErX9VFv",
        "outputId": "e09d8fc4-c548-4733-ddb7-fdd51a86f4b0"
      },
      "source": [
        "big_end_buffer = bytearray([0,1,3,2])\n",
        "big_end_buffer"
      ],
      "execution_count": 4,
      "outputs": [
        {
          "output_type": "execute_result",
          "data": {
            "text/plain": [
              "bytearray(b'\\x00\\x01\\x03\\x02')"
            ]
          },
          "metadata": {
            "tags": []
          },
          "execution_count": 4
        }
      ]
    },
    {
      "cell_type": "markdown",
      "metadata": {
        "id": "Q7fSOYKivRh0"
      },
      "source": [
        "## Broadcasting\n",
        "## https://numpy.org/doc/stable/user/basics.broadcasting.html"
      ]
    },
    {
      "cell_type": "code",
      "metadata": {
        "id": "G_m2GGzcq2N2"
      },
      "source": [
        "x = np.arange(4)\n",
        "xx = x.reshape(4,1)\n",
        "y = np.ones(5)\n",
        "z = np.ones((3,4))\n"
      ],
      "execution_count": 5,
      "outputs": []
    },
    {
      "cell_type": "code",
      "metadata": {
        "colab": {
          "base_uri": "https://localhost:8080/"
        },
        "id": "MZaIPG5zrYLr",
        "outputId": "7ad37ac9-ec69-4738-9c3a-34f874573683"
      },
      "source": [
        "x.shape"
      ],
      "execution_count": 6,
      "outputs": [
        {
          "output_type": "execute_result",
          "data": {
            "text/plain": [
              "(4,)"
            ]
          },
          "metadata": {
            "tags": []
          },
          "execution_count": 6
        }
      ]
    },
    {
      "cell_type": "code",
      "metadata": {
        "colab": {
          "base_uri": "https://localhost:8080/"
        },
        "id": "ofpK9qXUrak5",
        "outputId": "3a0ccc49-79aa-4152-fa48-0e605600295b"
      },
      "source": [
        "y.shape"
      ],
      "execution_count": 7,
      "outputs": [
        {
          "output_type": "execute_result",
          "data": {
            "text/plain": [
              "(5,)"
            ]
          },
          "metadata": {
            "tags": []
          },
          "execution_count": 7
        }
      ]
    },
    {
      "cell_type": "code",
      "metadata": {
        "colab": {
          "base_uri": "https://localhost:8080/",
          "height": 176
        },
        "id": "dctl-Vlzrfxp",
        "outputId": "c66136a2-8909-4737-8a6b-42a7b5cb9318"
      },
      "source": [
        "x + y"
      ],
      "execution_count": 8,
      "outputs": [
        {
          "output_type": "error",
          "ename": "ValueError",
          "evalue": "ignored",
          "traceback": [
            "\u001b[0;31m---------------------------------------------------------------------------\u001b[0m",
            "\u001b[0;31mValueError\u001b[0m                                Traceback (most recent call last)",
            "\u001b[0;32m<ipython-input-8-cd60f97aa77f>\u001b[0m in \u001b[0;36m<module>\u001b[0;34m()\u001b[0m\n\u001b[0;32m----> 1\u001b[0;31m \u001b[0mx\u001b[0m \u001b[0;34m+\u001b[0m \u001b[0my\u001b[0m\u001b[0;34m\u001b[0m\u001b[0;34m\u001b[0m\u001b[0m\n\u001b[0m",
            "\u001b[0;31mValueError\u001b[0m: operands could not be broadcast together with shapes (4,) (5,) "
          ]
        }
      ]
    },
    {
      "cell_type": "code",
      "metadata": {
        "colab": {
          "base_uri": "https://localhost:8080/"
        },
        "id": "CiYEdA8hroSE",
        "outputId": "7a63f4d8-3b5b-4bd0-cd15-44117f0751c7"
      },
      "source": [
        "xx.shape"
      ],
      "execution_count": 9,
      "outputs": [
        {
          "output_type": "execute_result",
          "data": {
            "text/plain": [
              "(4, 1)"
            ]
          },
          "metadata": {
            "tags": []
          },
          "execution_count": 9
        }
      ]
    },
    {
      "cell_type": "code",
      "metadata": {
        "colab": {
          "base_uri": "https://localhost:8080/"
        },
        "id": "fLCFGaVurvxD",
        "outputId": "4287e2cd-7d97-4763-f649-b56bf39d1da1"
      },
      "source": [
        "y.shape"
      ],
      "execution_count": 10,
      "outputs": [
        {
          "output_type": "execute_result",
          "data": {
            "text/plain": [
              "(5,)"
            ]
          },
          "metadata": {
            "tags": []
          },
          "execution_count": 10
        }
      ]
    },
    {
      "cell_type": "code",
      "metadata": {
        "colab": {
          "base_uri": "https://localhost:8080/"
        },
        "id": "yMHTAQ04sJeI",
        "outputId": "48cc5002-663b-4228-fd38-3b3c1597347f"
      },
      "source": [
        "xx"
      ],
      "execution_count": 13,
      "outputs": [
        {
          "output_type": "execute_result",
          "data": {
            "text/plain": [
              "array([[0],\n",
              "       [1],\n",
              "       [2],\n",
              "       [3]])"
            ]
          },
          "metadata": {
            "tags": []
          },
          "execution_count": 13
        }
      ]
    },
    {
      "cell_type": "code",
      "metadata": {
        "colab": {
          "base_uri": "https://localhost:8080/"
        },
        "id": "2yjjqFSpshcK",
        "outputId": "2fe3b816-206a-463e-9e9b-52b4bb251671"
      },
      "source": [
        "print(xx +y)"
      ],
      "execution_count": 14,
      "outputs": [
        {
          "output_type": "stream",
          "text": [
            "[[1. 1. 1. 1. 1.]\n",
            " [2. 2. 2. 2. 2.]\n",
            " [3. 3. 3. 3. 3.]\n",
            " [4. 4. 4. 4. 4.]]\n"
          ],
          "name": "stdout"
        }
      ]
    },
    {
      "cell_type": "code",
      "metadata": {
        "colab": {
          "base_uri": "https://localhost:8080/"
        },
        "id": "UeObZZ2mtPd8",
        "outputId": "16c3578d-81ee-45c2-f117-936fdc8421d4"
      },
      "source": [
        "x"
      ],
      "execution_count": 15,
      "outputs": [
        {
          "output_type": "execute_result",
          "data": {
            "text/plain": [
              "array([0, 1, 2, 3])"
            ]
          },
          "metadata": {
            "tags": []
          },
          "execution_count": 15
        }
      ]
    },
    {
      "cell_type": "code",
      "metadata": {
        "colab": {
          "base_uri": "https://localhost:8080/"
        },
        "id": "ZLTydGRatZN1",
        "outputId": "879b9dab-2b20-4352-ecc5-d3ac448eae22"
      },
      "source": [
        "z"
      ],
      "execution_count": 16,
      "outputs": [
        {
          "output_type": "execute_result",
          "data": {
            "text/plain": [
              "array([[1., 1., 1., 1.],\n",
              "       [1., 1., 1., 1.],\n",
              "       [1., 1., 1., 1.]])"
            ]
          },
          "metadata": {
            "tags": []
          },
          "execution_count": 16
        }
      ]
    },
    {
      "cell_type": "code",
      "metadata": {
        "colab": {
          "base_uri": "https://localhost:8080/"
        },
        "id": "yVfhVU5Tt0I0",
        "outputId": "c3f0cff1-1f07-4cab-e352-39066ed5a094"
      },
      "source": [
        "x + z\n"
      ],
      "execution_count": 17,
      "outputs": [
        {
          "output_type": "execute_result",
          "data": {
            "text/plain": [
              "array([[1., 2., 3., 4.],\n",
              "       [1., 2., 3., 4.],\n",
              "       [1., 2., 3., 4.]])"
            ]
          },
          "metadata": {
            "tags": []
          },
          "execution_count": 17
        }
      ]
    },
    {
      "cell_type": "code",
      "metadata": {
        "colab": {
          "base_uri": "https://localhost:8080/"
        },
        "id": "KLl-d1XLuX04",
        "outputId": "256f877b-29b9-4ad9-c383-8ba1a9190781"
      },
      "source": [
        "a = np.array([0.0, 10.0, 20.0, 30.0])\n",
        "b = np.array([1.0, 2.0, 3.0])\n",
        "c = a[:, np.newaxis]\n",
        "c"
      ],
      "execution_count": 20,
      "outputs": [
        {
          "output_type": "execute_result",
          "data": {
            "text/plain": [
              "array([[ 0.],\n",
              "       [10.],\n",
              "       [20.],\n",
              "       [30.]])"
            ]
          },
          "metadata": {
            "tags": []
          },
          "execution_count": 20
        }
      ]
    },
    {
      "cell_type": "code",
      "metadata": {
        "colab": {
          "base_uri": "https://localhost:8080/"
        },
        "id": "OsDr1wEquduY",
        "outputId": "0bd1d60b-1c7b-4757-a4a8-f3d59d3e4e51"
      },
      "source": [
        "c + b"
      ],
      "execution_count": 21,
      "outputs": [
        {
          "output_type": "execute_result",
          "data": {
            "text/plain": [
              "array([[ 1.,  2.,  3.],\n",
              "       [11., 12., 13.],\n",
              "       [21., 22., 23.],\n",
              "       [31., 32., 33.]])"
            ]
          },
          "metadata": {
            "tags": []
          },
          "execution_count": 21
        }
      ]
    },
    {
      "cell_type": "markdown",
      "metadata": {
        "id": "ZIeqUYHTw5p-"
      },
      "source": [
        ""
      ]
    },
    {
      "cell_type": "code",
      "metadata": {
        "colab": {
          "base_uri": "https://localhost:8080/"
        },
        "id": "DqLt3tIDwnr6",
        "outputId": "97632daa-df80-4f59-a72f-4a5076c8567e"
      },
      "source": [
        "x = np.array([('Rex', 9, 81.0), ('Fido', 3, 27.0)],\n",
        "           dtype=[('name', 'U10'), ('age', 'i4'), ('weight', 'f4')])\n",
        "x"
      ],
      "execution_count": 22,
      "outputs": [
        {
          "output_type": "execute_result",
          "data": {
            "text/plain": [
              "array([('Rex', 9, 81.), ('Fido', 3, 27.)],\n",
              "      dtype=[('name', '<U10'), ('age', '<i4'), ('weight', '<f4')])"
            ]
          },
          "metadata": {
            "tags": []
          },
          "execution_count": 22
        }
      ]
    },
    {
      "cell_type": "code",
      "metadata": {
        "colab": {
          "base_uri": "https://localhost:8080/"
        },
        "id": "F6YXrifowv9T",
        "outputId": "a16439b6-56e7-4f92-fda5-58dce50eee4e"
      },
      "source": [
        "x[1]"
      ],
      "execution_count": 23,
      "outputs": [
        {
          "output_type": "execute_result",
          "data": {
            "text/plain": [
              "('Fido', 3, 27.)"
            ]
          },
          "metadata": {
            "tags": []
          },
          "execution_count": 23
        }
      ]
    },
    {
      "cell_type": "code",
      "metadata": {
        "colab": {
          "base_uri": "https://localhost:8080/"
        },
        "id": "rCVzBbm2w8t4",
        "outputId": "2dc9e9b7-b1da-4ed3-e139-67419baaaae5"
      },
      "source": [
        "# Note it allocates a Unsigned 10 butes for the string\n",
        "# <i4 says Little endian integer of 32 bits\n",
        "# <f4 says Little endian Float 32 bits\n",
        "x"
      ],
      "execution_count": 25,
      "outputs": [
        {
          "output_type": "execute_result",
          "data": {
            "text/plain": [
              "array([('Rex', 9, 81.), ('Fido', 3, 27.)],\n",
              "      dtype=[('name', '<U10'), ('age', '<i4'), ('weight', '<f4')])"
            ]
          },
          "metadata": {
            "tags": []
          },
          "execution_count": 25
        }
      ]
    }
  ]
}