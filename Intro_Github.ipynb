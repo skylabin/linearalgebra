{
  "nbformat": 4,
  "nbformat_minor": 0,
  "metadata": {
    "colab": {
      "name": "Intro_Github.ipynb",
      "provenance": [],
      "collapsed_sections": [],
      "authorship_tag": "ABX9TyNWDAY3VHpyBV0hzFal934u",
      "include_colab_link": true
    },
    "kernelspec": {
      "name": "python3",
      "display_name": "Python 3"
    },
    "language_info": {
      "name": "python"
    }
  },
  "cells": [
    {
      "cell_type": "markdown",
      "metadata": {
        "id": "view-in-github",
        "colab_type": "text"
      },
      "source": [
        "<a href=\"https://colab.research.google.com/github/skylabin/linearalgebra/blob/main/Intro_Github.ipynb\" target=\"_parent\"><img src=\"https://colab.research.google.com/assets/colab-badge.svg\" alt=\"Open In Colab\"/></a>"
      ]
    },
    {
      "cell_type": "markdown",
      "metadata": {
        "id": "ekD0eCAKNKPx"
      },
      "source": [
        "# https://projects.raspberrypi.org/en/projects/getting-started-with-git/2\n",
        "\n",
        "What is Git?\n",
        "![image.png](data:image/png;base64,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)\n",
        "\n",
        "Git is a version control system (VCS) for tracking changes to files and coordinating changes between multiple people who are all working on the same code base.\n",
        "\n",
        "One way to think about Git is to imagine a magical school bag. You can pull books out of your bag and do some work whenever you like. Once you’ve finished your homework, you can put the books back into your school bag, and the bag remembers what changes you made to all the books inside it.\n",
        "\n",
        "What’s really clever is that this school bag can be synchronised with another magical school bag that lives in the clouds. Whenever you like, you can tell the bag to copy the contents of all the books to the sky-bag. If you lose your own school bag, you don’t have to worry, as you can just get a new one and grab all the books and writing from the sky-bag.\n",
        "\n",
        "That’s not all though. All your friends at school also have magical school bags. They also keep their bags synchronised with the sky-bag. This means that you and your friends can all work on the homework together. If a friend has a better answer to a science question than you do, you can copy their answer from the sky-bag to your book.\n",
        "\n",
        "It gets even better than that: your teacher also has a magical school bag. When she wants to check the homework, she just copies all the books from the sky-bag to her bag. She can then check through the answers from the whole class in one go. If she spots a mistake, she can write a comment in the margin of the book, and then all the magical bags from the whole class will receive the comment. Only one person in the class needs to correct the mistake though, and then everyone in the class immediately has the correct answer.\n",
        "\n"
      ]
    }
  ]
}