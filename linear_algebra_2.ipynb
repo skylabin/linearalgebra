{
  "nbformat": 4,
  "nbformat_minor": 5,
  "metadata": {
    "kernelspec": {
      "name": "python3",
      "display_name": "Python 3",
      "language": "python"
    },
    "language_info": {
      "name": "python",
      "version": "3.7.10",
      "mimetype": "text/x-python",
      "codemirror_mode": {
        "name": "ipython",
        "version": 3
      },
      "pygments_lexer": "ipython3",
      "nbconvert_exporter": "python",
      "file_extension": ".py"
    },
    "colab": {
      "name": "Copy of Copy of linear_algebra_2.ipynb",
      "provenance": [],
      "include_colab_link": true
    }
  },
  "cells": [
    {
      "cell_type": "markdown",
      "metadata": {
        "id": "view-in-github",
        "colab_type": "text"
      },
      "source": [
        "<a href=\"https://colab.research.google.com/github/skylabin/linearalgebra/blob/main/linear_algebra_2.ipynb\" target=\"_parent\"><img src=\"https://colab.research.google.com/assets/colab-badge.svg\" alt=\"Open In Colab\"/></a>"
      ]
    },
    {
      "cell_type": "code",
      "metadata": {
        "id": "sc-48Gy04RXA",
        "colab": {
          "base_uri": "https://localhost:8080/"
        },
        "outputId": "9b4ebd2e-3877-458b-d642-b4a62ffaf82c"
      },
      "source": [
        "# Second ipynb Python for linear algebra (for absolute beginners) by Mike Cohen\n",
        "# First 31 min steps I have saved as linear_algebra_1.ipynb \n",
        "# Refer to the you tube video from 31 min : https://www.youtube.com/watch?v=JSjWltL9-7M\n",
        "# If you try to import numpy or matplotlib or similar modules in Binder it will \"No modeule\" error\n",
        "# so first create those modules in your binder using pip\n",
        "!python --version\n",
        "#pip install numpy\n",
        "#pip install matplotlib.pyplot\n"
      ],
      "id": "sc-48Gy04RXA",
      "execution_count": null,
      "outputs": [
        {
          "output_type": "stream",
          "text": [
            "Python 3.7.10\n"
          ],
          "name": "stdout"
        }
      ]
    },
    {
      "cell_type": "code",
      "metadata": {
        "id": "t_HNjArA4UeX"
      },
      "source": [
        "# This part explains matplotlib plotting features in detail\n",
        "import numpy as np\n",
        "import matplotlib.pyplot as plt"
      ],
      "id": "t_HNjArA4UeX",
      "execution_count": null,
      "outputs": []
    },
    {
      "cell_type": "code",
      "metadata": {
        "id": "zCpDnLmV4bWs",
        "colab": {
          "base_uri": "https://localhost:8080/",
          "height": 284
        },
        "outputId": "113f257f-c0b0-4fd7-ad89-116d79f755ce"
      },
      "source": [
        "plt.plot(1,3, 'ro')"
      ],
      "id": "zCpDnLmV4bWs",
      "execution_count": null,
      "outputs": [
        {
          "output_type": "execute_result",
          "data": {
            "text/plain": [
              "[<matplotlib.lines.Line2D at 0x7f62cab0a790>]"
            ]
          },
          "metadata": {
            "tags": []
          },
          "execution_count": 5
        },
        {
          "output_type": "display_data",
          "data": {
            "image/png": "[encoded data removed]",
            "text/plain": [
              "<Figure size 432x288 with 1 Axes>"
            ]
          },
          "metadata": {
            "tags": [],
            "needs_background": "light"
          }
        }
      ]
    },
    {
      "cell_type": "code",
      "metadata": {
        "id": "fiLd3pBD4dmu"
      },
      "source": [
        ""
      ],
      "id": "fiLd3pBD4dmu",
      "execution_count": null,
      "outputs": []
    }
  ]
}