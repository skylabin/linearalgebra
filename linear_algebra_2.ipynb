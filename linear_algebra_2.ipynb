# This is the second file for Mike Cohen video lessons on Python for Linear Algebra
