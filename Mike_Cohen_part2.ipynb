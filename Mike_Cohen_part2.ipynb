{
  "nbformat": 4,
  "nbformat_minor": 0,
  "metadata": {
    "colab": {
      "name": "Untitled0.ipynb",
      "provenance": [],
      "authorship_tag": "ABX9TyN6u7kIW9PXqoIkOUJ8S83U",
      "include_colab_link": true
    },
    "kernelspec": {
      "display_name": "Python 3",
      "name": "python3"
    },
    "language_info": {
      "name": "python"
    }
  },
  "cells": [
    {
      "cell_type": "markdown",
      "metadata": {
        "id": "view-in-github",
        "colab_type": "text"
      },
      "source": [
        "<a href=\"https://colab.research.google.com/github/skylabin/linearalgebra/blob/main/Mike_Cohen_part2.ipynb\" target=\"_parent\"><img src=\"https://colab.research.google.com/assets/colab-badge.svg\" alt=\"Open In Colab\"/></a>"
      ]
    },
    {
      "cell_type": "code",
      "metadata": {
        "id": "IHbr7xdOuViG"
      },
      "source": [
        "# Follow Mike Cohen Data Animations in Python for Prime Numbers\n",
        "import numpy as np\n",
        "import matplotlib.pyplot as plt\n",
        "from sympy import isprime"
      ],
      "execution_count": 52,
      "outputs": []
    },
    {
      "cell_type": "code",
      "metadata": {
        "colab": {
          "base_uri": "https://localhost:8080/"
        },
        "id": "aGpZkV3Pu8jh",
        "outputId": "1f5cdad1-0be2-455f-c306-4eea7f188f09"
      },
      "source": [
        "isprime(4)"
      ],
      "execution_count": null,
      "outputs": [
        {
          "output_type": "execute_result",
          "data": {
            "text/plain": [
              "False"
            ]
          },
          "metadata": {
            "tags": []
          },
          "execution_count": 5
        }
      ]
    },
    {
      "cell_type": "code",
      "metadata": {
        "colab": {
          "base_uri": "https://localhost:8080/"
        },
        "id": "Z8MLd3sSYt7o",
        "outputId": "72b184be-7f1c-4eaa-8892-9c64dbef2b18"
      },
      "source": [
        "# Here is a nice way to update distance variable within 0,1,2,3\n",
        "d = np.arange(4)\n",
        "(d+1)%4"
      ],
      "execution_count": 53,
      "outputs": [
        {
          "output_type": "execute_result",
          "data": {
            "text/plain": [
              "array([1, 2, 3, 0])"
            ]
          },
          "metadata": {
            "tags": []
          },
          "execution_count": 53
        }
      ]
    },
    {
      "cell_type": "code",
      "metadata": {
        "colab": {
          "base_uri": "https://localhost:8080/"
        },
        "id": "9iS9kA6XvCfS",
        "outputId": "5351e35e-1f9f-4f94-be9d-42fb50205246"
      },
      "source": [
        "# unlike the error shown by Cohen video, this now gives False for any np.array\n",
        "isprime(np.arange(7))"
      ],
      "execution_count": 54,
      "outputs": [
        {
          "output_type": "execute_result",
          "data": {
            "text/plain": [
              "False"
            ]
          },
          "metadata": {
            "tags": []
          },
          "execution_count": 54
        }
      ]
    },
    {
      "cell_type": "code",
      "metadata": {
        "colab": {
          "base_uri": "https://localhost:8080/"
        },
        "id": "YIyENZqxvVY5",
        "outputId": "a1d04499-5fa5-4cb0-f71f-5ada0b4bcfab"
      },
      "source": [
        "np.arange(10)"
      ],
      "execution_count": 55,
      "outputs": [
        {
          "output_type": "execute_result",
          "data": {
            "text/plain": [
              "array([0, 1, 2, 3, 4, 5, 6, 7, 8, 9])"
            ]
          },
          "metadata": {
            "tags": []
          },
          "execution_count": 55
        }
      ]
    },
    {
      "cell_type": "code",
      "metadata": {
        "id": "jOnWncb_vs4-"
      },
      "source": [
        "# we will use list comprehension a wow! technique of Python\n",
        "# first we list the prime numbers till 100 then change to 100000\n",
        "n = 100000\n",
        "ps = [i for i in range(n) if isprime(i)]\n"
      ],
      "execution_count": 56,
      "outputs": []
    },
    {
      "cell_type": "code",
      "metadata": {
        "id": "kuPRHt8ax2uV"
      },
      "source": [
        "# Just bring your mouse over the variable and it will list it and \n",
        "# show the number of elements in the list and a short summary of it \n",
        "# It will show 9592 items\n",
        "# ps"
      ],
      "execution_count": null,
      "outputs": []
    },
    {
      "cell_type": "code",
      "metadata": {
        "colab": {
          "base_uri": "https://localhost:8080/"
        },
        "id": "QObCV-KjyZ_W",
        "outputId": "2cf2a15c-5bcb-450b-aec3-82930cb14697"
      },
      "source": [
        "# To compute distance between adjacent prime numbers we can compute\n",
        "# dist = ps[i] - ps[i - 1]\n",
        "# but for first element starts with index 0\n",
        "print(ps[0])\n",
        "print(ps[0 - 1])\n",
        "# This will give dist between first element 2 and last element 99991\n",
        "# So we index from 1"
      ],
      "execution_count": 57,
      "outputs": [
        {
          "output_type": "stream",
          "text": [
            "2\n",
            "99991\n"
          ],
          "name": "stdout"
        }
      ]
    },
    {
      "cell_type": "code",
      "metadata": {
        "id": "gpucSZX94Ljm"
      },
      "source": [
        "# initialize direction variable to 0\n",
        "direction = 0\n",
        "# initialize the matrix\n",
        "xy = np.zeros((len(ps),2))\n",
        "for i in range(1, len(ps)):\n",
        "  #print(\"Value of i: \", i)\n",
        "  dist = ps[i] - ps[i-1]\n",
        "  # print(dist)\n",
        "  # update the xy coordinates\n",
        "  # we need to move north first with the distance. \n",
        "  # Moving Nort means staying on y axis and not changing x axis\n",
        "  # xy[i-1,0] is the old x cordinate - it stays as is\n",
        "  # xy[i-1]+ dist is the y coordinate that we modify by dist\n",
        "  if direction == 0:\n",
        "    xy[i,:] = [xy[i-1,0], xy[i-1,1] + dist]\n",
        "    #print(xy[i])\n",
        "  elif direction == 1:\n",
        "    xy[i,:] = [xy[i-1,0] + dist, xy[i-1,1]]\n",
        "    #print(xy[i])\n",
        "  elif direction == 2:\n",
        "    xy[i,:] = [xy[i-1,0], xy[i-1,1] - dist]\n",
        "    #print(xy[i])\n",
        "  elif direction == 3:\n",
        "    xy[i,:] = [xy[i-1,0] - dist, xy[i-1,1]]\n",
        "    #print(xy[i])\n",
        "\n",
        "  # update direction 0,1,2,3,0...\n",
        "  direction = (direction +1) %4\n",
        "\n",
        "\n"
      ],
      "execution_count": 58,
      "outputs": []
    },
    {
      "cell_type": "code",
      "metadata": {
        "colab": {
          "base_uri": "https://localhost:8080/"
        },
        "id": "1eedH1tYS3rq",
        "outputId": "39b04ce8-7c78-4590-8f15-3bf707fc06e4"
      },
      "source": [
        "np.mean(xy, axis=0)"
      ],
      "execution_count": 59,
      "outputs": [
        {
          "output_type": "execute_result",
          "data": {
            "text/plain": [
              "array([267.32485405, 312.02304003])"
            ]
          },
          "metadata": {
            "tags": []
          },
          "execution_count": 59
        }
      ]
    }
  ]
}